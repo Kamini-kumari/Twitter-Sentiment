{
 "cells": [
  {
   "cell_type": "code",
   "execution_count": 1,
   "metadata": {},
   "outputs": [],
   "source": [
    "import pandas as pd\n",
    "import re"
   ]
  },
  {
   "cell_type": "code",
   "execution_count": 2,
   "metadata": {},
   "outputs": [],
   "source": [
    "data=pd.read_csv('Sentiment.csv')\n",
    "data=data[['text','sentiment']]"
   ]
  },
  {
   "cell_type": "code",
   "execution_count": 3,
   "metadata": {},
   "outputs": [],
   "source": [
    "data=data[data['sentiment']!='Neutral']"
   ]
  },
  {
   "cell_type": "code",
   "execution_count": 4,
   "metadata": {},
   "outputs": [],
   "source": [
    "data['text']=data['text'].apply(lambda x:x.lower())\n",
    "data['text']=data['text'].apply(lambda x:re.sub('[^a-zA-Z0-9\\s]','',x))"
   ]
  },
  {
   "cell_type": "code",
   "execution_count": 5,
   "metadata": {},
   "outputs": [],
   "source": [
    "for idx,row in data.iterrows():\n",
    "    row[0]=row[0].replace('rt',' ')"
   ]
  },
  {
   "cell_type": "code",
   "execution_count": 6,
   "metadata": {},
   "outputs": [
    {
     "name": "stderr",
     "output_type": "stream",
     "text": [
      "Using TensorFlow backend.\n"
     ]
    }
   ],
   "source": [
    "from keras.preprocessing.text import Tokenizer"
   ]
  },
  {
   "cell_type": "code",
   "execution_count": 7,
   "metadata": {},
   "outputs": [],
   "source": [
    "tokenizer=Tokenizer(num_words=2000,split=' ') #select 2000 most frequent words"
   ]
  },
  {
   "cell_type": "code",
   "execution_count": 8,
   "metadata": {},
   "outputs": [],
   "source": [
    "tokenizer.fit_on_texts(data['text'].values)  #texts contains lists, we assume each entry of the lists to be a token."
   ]
  },
  {
   "cell_type": "code",
   "execution_count": 9,
   "metadata": {},
   "outputs": [],
   "source": [
    "x=tokenizer.texts_to_sequences(data['text'].values)   #Transforms each sequence into a list of text"
   ]
  },
  {
   "cell_type": "code",
   "execution_count": 10,
   "metadata": {},
   "outputs": [],
   "source": [
    "from keras.preprocessing.sequence import pad_sequences\n",
    "x=pad_sequences(x)    #insert 0 at the front"
   ]
  },
  {
   "cell_type": "code",
   "execution_count": 11,
   "metadata": {},
   "outputs": [
    {
     "data": {
      "text/plain": [
       "array([[   0,    0,    0, ..., 1317, 1403,  742],\n",
       "       [   0,    0,    0, ...,  233,  723,   17],\n",
       "       [   0,    0,    0, ...,  207,  371,  670],\n",
       "       ...,\n",
       "       [   0,    0,    0, ...,   72,   65,    3],\n",
       "       [   0,    0,    0, ..., 1018, 1417,   73],\n",
       "       [   0,    0,    0, ...,  197,    3,  721]], dtype=int32)"
      ]
     },
     "execution_count": 11,
     "metadata": {},
     "output_type": "execute_result"
    }
   ],
   "source": [
    "x"
   ]
  },
  {
   "cell_type": "code",
   "execution_count": 12,
   "metadata": {},
   "outputs": [
    {
     "name": "stdout",
     "output_type": "stream",
     "text": [
      "WARNING:tensorflow:From /home/kamoo/anaconda3/lib/python3.7/site-packages/tensorflow/python/ops/resource_variable_ops.py:435: colocate_with (from tensorflow.python.framework.ops) is deprecated and will be removed in a future version.\n",
      "Instructions for updating:\n",
      "Colocations handled automatically by placer.\n",
      "Model: \"sequential_1\"\n",
      "_________________________________________________________________\n",
      "Layer (type)                 Output Shape              Param #   \n",
      "=================================================================\n",
      "embedding_1 (Embedding)      (None, 28, 128)           256000    \n",
      "_________________________________________________________________\n",
      "spatial_dropout1d_1 (Spatial (None, 28, 128)           0         \n",
      "_________________________________________________________________\n",
      "lstm_1 (LSTM)                (None, 196)               254800    \n",
      "_________________________________________________________________\n",
      "dense_1 (Dense)              (None, 2)                 394       \n",
      "=================================================================\n",
      "Total params: 511,194\n",
      "Trainable params: 511,194\n",
      "Non-trainable params: 0\n",
      "_________________________________________________________________\n"
     ]
    }
   ],
   "source": [
    "from keras.models import Sequential\n",
    "from keras.layers import Dense, Embedding, LSTM, SpatialDropout1D\n",
    "\n",
    "embed_dim=128\n",
    "lstm_out=196\n",
    "model=Sequential()\n",
    "model.add(Embedding(2000,embed_dim,input_length=x.shape[1]))\n",
    "model.add(SpatialDropout1D(0.4))\n",
    "model.add(LSTM(lstm_out,dropout=0.2,recurrent_dropout=0.2))\n",
    "model.add(Dense(2,activation='softmax'))\n",
    "model.compile(loss='categorical_crossentropy',optimizer='adam',metrics=['accuracy'])\n",
    "model.summary()"
   ]
  },
  {
   "cell_type": "code",
   "execution_count": 13,
   "metadata": {},
   "outputs": [],
   "source": [
    "y=pd.get_dummies(data['sentiment']).values"
   ]
  },
  {
   "cell_type": "code",
   "execution_count": 14,
   "metadata": {},
   "outputs": [],
   "source": [
    "from sklearn.model_selection import train_test_split\n",
    "x_train,x_test,y_train,y_test=train_test_split(x,y,test_size=0.33,random_state=42)"
   ]
  },
  {
   "cell_type": "code",
   "execution_count": 15,
   "metadata": {},
   "outputs": [
    {
     "name": "stdout",
     "output_type": "stream",
     "text": [
      "WARNING:tensorflow:From /home/kamoo/anaconda3/lib/python3.7/site-packages/tensorflow/python/ops/math_ops.py:3066: to_int32 (from tensorflow.python.ops.math_ops) is deprecated and will be removed in a future version.\n",
      "Instructions for updating:\n",
      "Use tf.cast instead.\n",
      "Epoch 1/7\n",
      " - 19s - loss: 0.4359 - accuracy: 0.8154\n",
      "Epoch 2/7\n",
      " - 18s - loss: 0.3231 - accuracy: 0.8688\n",
      "Epoch 3/7\n",
      " - 18s - loss: 0.2790 - accuracy: 0.8866\n",
      "Epoch 4/7\n",
      " - 18s - loss: 0.2557 - accuracy: 0.8972\n",
      "Epoch 5/7\n",
      " - 19s - loss: 0.2281 - accuracy: 0.9089\n",
      "Epoch 6/7\n",
      " - 19s - loss: 0.2074 - accuracy: 0.9147\n",
      "Epoch 7/7\n",
      " - 19s - loss: 0.1842 - accuracy: 0.9264\n"
     ]
    },
    {
     "data": {
      "text/plain": [
       "<keras.callbacks.callbacks.History at 0x7febe203f978>"
      ]
     },
     "execution_count": 15,
     "metadata": {},
     "output_type": "execute_result"
    }
   ],
   "source": [
    "batch_size=32\n",
    "model.fit(x_train,y_train,epochs=7,batch_size=batch_size,verbose=2)"
   ]
  },
  {
   "cell_type": "code",
   "execution_count": 16,
   "metadata": {},
   "outputs": [
    {
     "name": "stdout",
     "output_type": "stream",
     "text": [
      "score: 0.40\n",
      "accuracy: 0.833905\n"
     ]
    }
   ],
   "source": [
    "validation_size=1500\n",
    "x_validate=x_test[-validation_size:]\n",
    "y_validate=y_test[-validation_size:]\n",
    "x_test=x_test[:-validation_size]\n",
    "y_test=y_test[:-validation_size]\n",
    "score,acc=model.evaluate(x_test,y_test,verbose=2,batch_size=batch_size)\n",
    "print(\"score: %.2f\"%score)\n",
    "print(\"accuracy: %2f\"%acc)"
   ]
  },
  {
   "cell_type": "code",
   "execution_count": 18,
   "metadata": {},
   "outputs": [],
   "source": [
    "import numpy as np\n",
    "pos_crt,neg_crt,pos_cnt,neg_cnt=0,0,0,0\n",
    "for x in range(len(x_validate)):\n",
    "    result=model.predict(x_validate[x].reshape(1,x_test.shape[1]),batch_size=1,verbose=2)\n",
    "    if np.argmax(result)==np.argmax(y_validate[x]):\n",
    "        if np.argmax(result)==0:\n",
    "            neg_crt+=1\n",
    "        else:\n",
    "            pos_crt+=1\n",
    "    if np.argmax(result)==0:\n",
    "        neg_cnt+=1\n",
    "    else:\n",
    "        pos_cnt+=1"
   ]
  },
  {
   "cell_type": "code",
   "execution_count": 19,
   "metadata": {},
   "outputs": [
    {
     "name": "stdout",
     "output_type": "stream",
     "text": [
      "pos_acc 62.96296296296296 %\n",
      "neg_acc 89.85868661679135 %\n"
     ]
    }
   ],
   "source": [
    "print(\"pos_acc\", pos_crt/pos_cnt*100, \"%\")\n",
    "print(\"neg_acc\", neg_crt/neg_cnt*100, \"%\")"
   ]
  },
  {
   "cell_type": "code",
   "execution_count": null,
   "metadata": {},
   "outputs": [],
   "source": []
  }
 ],
 "metadata": {
  "kernelspec": {
   "display_name": "Python 3",
   "language": "python",
   "name": "python3"
  },
  "language_info": {
   "codemirror_mode": {
    "name": "ipython",
    "version": 3
   },
   "file_extension": ".py",
   "mimetype": "text/x-python",
   "name": "python",
   "nbconvert_exporter": "python",
   "pygments_lexer": "ipython3",
   "version": "3.7.3"
  }
 },
 "nbformat": 4,
 "nbformat_minor": 2
}
